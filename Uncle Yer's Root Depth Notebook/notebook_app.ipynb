{
 "metadata": {
  "kernelspec": {
   "display_name": "Streamlit Notebook",
   "name": "streamlit"
  }
 },
 "nbformat_minor": 5,
 "nbformat": 4,
 "cells": [
  {
   "cell_type": "markdown",
   "id": "8ab5967a-7233-4e2d-825b-175399eff273",
   "metadata": {
    "name": "Title_Cell",
    "collapsed": false
   },
   "source": "Markdown is just text"
  },
  {
   "cell_type": "code",
   "id": "0611ee54-7998-4a46-aa06-738c024b4a1b",
   "metadata": {
    "language": "sql",
    "name": "insert_row"
   },
   "outputs": [],
   "source": "INSERT INTO \ngarden_plants.flowers.flower_details\nSELECT 'Petunia','M';",
   "execution_count": null
  },
  {
   "cell_type": "code",
   "id": "bf6101dc-a187-4034-a2a3-7facedbb64f7",
   "metadata": {
    "language": "sql",
    "name": "check_the_table"
   },
   "outputs": [],
   "source": "SELECT * FROM garden_plants.flowers.flower_details",
   "execution_count": null
  }
 ]
}