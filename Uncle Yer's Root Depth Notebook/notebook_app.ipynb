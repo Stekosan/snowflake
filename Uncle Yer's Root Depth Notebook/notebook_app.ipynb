{
 "metadata": {
  "kernelspec": {
   "display_name": "Streamlit Notebook",
   "name": "streamlit"
  }
 },
 "nbformat_minor": 5,
 "nbformat": 4,
 "cells": [
  {
   "cell_type": "markdown",
   "id": "8ab5967a-7233-4e2d-825b-175399eff273",
   "metadata": {
    "name": "Title_Cell",
    "collapsed": false
   },
   "source": "# Add Rows to Flower Detail Table\n\nEdit the \"set\" cells to update the variables, then click, \"Run All\" in the top left-corner."
  },
  {
   "cell_type": "code",
   "id": "42301617-73c9-47a4-bfe6-89834a8dc9a5",
   "metadata": {
    "language": "sql",
    "name": "set_root_depth_code",
    "collapsed": false
   },
   "outputs": [],
   "source": "set rdc = 'S';",
   "execution_count": null
  },
  {
   "cell_type": "code",
   "id": "c73f0459-3dfc-4ea8-86de-01f9f00bdcc1",
   "metadata": {
    "language": "sql",
    "name": "set_flower_name",
    "collapsed": false
   },
   "outputs": [],
   "source": "set fn = 'Lilac';",
   "execution_count": null
  },
  {
   "cell_type": "code",
   "id": "c2c8e10f-eefc-4500-aebb-10f183e67f63",
   "metadata": {
    "language": "sql",
    "name": "check_my_variables",
    "collapsed": false
   },
   "outputs": [],
   "source": "select $fn, $rdc;",
   "execution_count": null
  },
  {
   "cell_type": "code",
   "id": "0611ee54-7998-4a46-aa06-738c024b4a1b",
   "metadata": {
    "language": "sql",
    "name": "insert_row",
    "collapsed": false
   },
   "outputs": [],
   "source": "INSERT INTO \ngarden_plants.flowers.flower_details\nSELECT $fn, $rdc;",
   "execution_count": null
  },
  {
   "cell_type": "code",
   "id": "bf6101dc-a187-4034-a2a3-7facedbb64f7",
   "metadata": {
    "language": "sql",
    "name": "check_the_table",
    "collapsed": false
   },
   "outputs": [],
   "source": "SELECT * FROM garden_plants.flowers.flower_details",
   "execution_count": null
  }
 ]
}